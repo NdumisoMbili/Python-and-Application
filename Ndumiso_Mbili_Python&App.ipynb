{
  "cells": [
    {
      "cell_type": "markdown",
      "metadata": {
        "id": "view-in-github",
        "colab_type": "text"
      },
      "source": [
        "<a href=\"https://colab.research.google.com/github/NdumisoMbili/Python-and-Application/blob/main/Ndumiso_Mbili_Python%26App.ipynb\" target=\"_parent\"><img src=\"https://colab.research.google.com/assets/colab-badge.svg\" alt=\"Open In Colab\"/></a>"
      ]
    },
    {
      "cell_type": "code",
      "execution_count": 1,
      "metadata": {
        "id": "FDL3g5waWc7_"
      },
      "outputs": [],
      "source": [
        "# Section A: Data Visualization"
      ]
    },
    {
      "cell_type": "code",
      "execution_count": 2,
      "metadata": {
        "id": "7YNobZDuoXX_"
      },
      "outputs": [],
      "source": [
        "# Import necessary libraries\n",
        "import pandas as pd\n",
        "import numpy as np\n",
        "import matplotlib.pyplot as plt\n",
        "import seaborn as sns\n",
        "from sklearn.ensemble import RandomForestClassifier\n",
        "from sklearn.ensemble import RandomForestRegressor\n",
        "from xgboost import XGBClassifier\n",
        "from sklearn.model_selection import train_test_split\n",
        "from sklearn.metrics import classification_report, confusion_matrix, roc_curve, auc"
      ]
    },
    {
      "cell_type": "code",
      "execution_count": null,
      "metadata": {
        "colab": {
          "base_uri": "https://localhost:8080/",
          "height": 56
        },
        "id": "CBJ1N-3Fxmr8",
        "outputId": "1f6bc43e-4ae4-4dd9-d57c-dde75d2e705e"
      },
      "outputs": [
        {
          "output_type": "display_data",
          "data": {
            "text/plain": [
              "<IPython.core.display.HTML object>"
            ],
            "text/html": [
              "\n",
              "     <input type=\"file\" id=\"files-85a44d4b-7035-46f6-afff-335ec7493be5\" name=\"files[]\" multiple disabled\n",
              "        style=\"border:none\" />\n",
              "     <output id=\"result-85a44d4b-7035-46f6-afff-335ec7493be5\">\n",
              "      Upload widget is only available when the cell has been executed in the\n",
              "      current browser session. Please rerun this cell to enable.\n",
              "      </output>\n",
              "      <script>// Copyright 2017 Google LLC\n",
              "//\n",
              "// Licensed under the Apache License, Version 2.0 (the \"License\");\n",
              "// you may not use this file except in compliance with the License.\n",
              "// You may obtain a copy of the License at\n",
              "//\n",
              "//      http://www.apache.org/licenses/LICENSE-2.0\n",
              "//\n",
              "// Unless required by applicable law or agreed to in writing, software\n",
              "// distributed under the License is distributed on an \"AS IS\" BASIS,\n",
              "// WITHOUT WARRANTIES OR CONDITIONS OF ANY KIND, either express or implied.\n",
              "// See the License for the specific language governing permissions and\n",
              "// limitations under the License.\n",
              "\n",
              "/**\n",
              " * @fileoverview Helpers for google.colab Python module.\n",
              " */\n",
              "(function(scope) {\n",
              "function span(text, styleAttributes = {}) {\n",
              "  const element = document.createElement('span');\n",
              "  element.textContent = text;\n",
              "  for (const key of Object.keys(styleAttributes)) {\n",
              "    element.style[key] = styleAttributes[key];\n",
              "  }\n",
              "  return element;\n",
              "}\n",
              "\n",
              "// Max number of bytes which will be uploaded at a time.\n",
              "const MAX_PAYLOAD_SIZE = 100 * 1024;\n",
              "\n",
              "function _uploadFiles(inputId, outputId) {\n",
              "  const steps = uploadFilesStep(inputId, outputId);\n",
              "  const outputElement = document.getElementById(outputId);\n",
              "  // Cache steps on the outputElement to make it available for the next call\n",
              "  // to uploadFilesContinue from Python.\n",
              "  outputElement.steps = steps;\n",
              "\n",
              "  return _uploadFilesContinue(outputId);\n",
              "}\n",
              "\n",
              "// This is roughly an async generator (not supported in the browser yet),\n",
              "// where there are multiple asynchronous steps and the Python side is going\n",
              "// to poll for completion of each step.\n",
              "// This uses a Promise to block the python side on completion of each step,\n",
              "// then passes the result of the previous step as the input to the next step.\n",
              "function _uploadFilesContinue(outputId) {\n",
              "  const outputElement = document.getElementById(outputId);\n",
              "  const steps = outputElement.steps;\n",
              "\n",
              "  const next = steps.next(outputElement.lastPromiseValue);\n",
              "  return Promise.resolve(next.value.promise).then((value) => {\n",
              "    // Cache the last promise value to make it available to the next\n",
              "    // step of the generator.\n",
              "    outputElement.lastPromiseValue = value;\n",
              "    return next.value.response;\n",
              "  });\n",
              "}\n",
              "\n",
              "/**\n",
              " * Generator function which is called between each async step of the upload\n",
              " * process.\n",
              " * @param {string} inputId Element ID of the input file picker element.\n",
              " * @param {string} outputId Element ID of the output display.\n",
              " * @return {!Iterable<!Object>} Iterable of next steps.\n",
              " */\n",
              "function* uploadFilesStep(inputId, outputId) {\n",
              "  const inputElement = document.getElementById(inputId);\n",
              "  inputElement.disabled = false;\n",
              "\n",
              "  const outputElement = document.getElementById(outputId);\n",
              "  outputElement.innerHTML = '';\n",
              "\n",
              "  const pickedPromise = new Promise((resolve) => {\n",
              "    inputElement.addEventListener('change', (e) => {\n",
              "      resolve(e.target.files);\n",
              "    });\n",
              "  });\n",
              "\n",
              "  const cancel = document.createElement('button');\n",
              "  inputElement.parentElement.appendChild(cancel);\n",
              "  cancel.textContent = 'Cancel upload';\n",
              "  const cancelPromise = new Promise((resolve) => {\n",
              "    cancel.onclick = () => {\n",
              "      resolve(null);\n",
              "    };\n",
              "  });\n",
              "\n",
              "  // Wait for the user to pick the files.\n",
              "  const files = yield {\n",
              "    promise: Promise.race([pickedPromise, cancelPromise]),\n",
              "    response: {\n",
              "      action: 'starting',\n",
              "    }\n",
              "  };\n",
              "\n",
              "  cancel.remove();\n",
              "\n",
              "  // Disable the input element since further picks are not allowed.\n",
              "  inputElement.disabled = true;\n",
              "\n",
              "  if (!files) {\n",
              "    return {\n",
              "      response: {\n",
              "        action: 'complete',\n",
              "      }\n",
              "    };\n",
              "  }\n",
              "\n",
              "  for (const file of files) {\n",
              "    const li = document.createElement('li');\n",
              "    li.append(span(file.name, {fontWeight: 'bold'}));\n",
              "    li.append(span(\n",
              "        `(${file.type || 'n/a'}) - ${file.size} bytes, ` +\n",
              "        `last modified: ${\n",
              "            file.lastModifiedDate ? file.lastModifiedDate.toLocaleDateString() :\n",
              "                                    'n/a'} - `));\n",
              "    const percent = span('0% done');\n",
              "    li.appendChild(percent);\n",
              "\n",
              "    outputElement.appendChild(li);\n",
              "\n",
              "    const fileDataPromise = new Promise((resolve) => {\n",
              "      const reader = new FileReader();\n",
              "      reader.onload = (e) => {\n",
              "        resolve(e.target.result);\n",
              "      };\n",
              "      reader.readAsArrayBuffer(file);\n",
              "    });\n",
              "    // Wait for the data to be ready.\n",
              "    let fileData = yield {\n",
              "      promise: fileDataPromise,\n",
              "      response: {\n",
              "        action: 'continue',\n",
              "      }\n",
              "    };\n",
              "\n",
              "    // Use a chunked sending to avoid message size limits. See b/62115660.\n",
              "    let position = 0;\n",
              "    do {\n",
              "      const length = Math.min(fileData.byteLength - position, MAX_PAYLOAD_SIZE);\n",
              "      const chunk = new Uint8Array(fileData, position, length);\n",
              "      position += length;\n",
              "\n",
              "      const base64 = btoa(String.fromCharCode.apply(null, chunk));\n",
              "      yield {\n",
              "        response: {\n",
              "          action: 'append',\n",
              "          file: file.name,\n",
              "          data: base64,\n",
              "        },\n",
              "      };\n",
              "\n",
              "      let percentDone = fileData.byteLength === 0 ?\n",
              "          100 :\n",
              "          Math.round((position / fileData.byteLength) * 100);\n",
              "      percent.textContent = `${percentDone}% done`;\n",
              "\n",
              "    } while (position < fileData.byteLength);\n",
              "  }\n",
              "\n",
              "  // All done.\n",
              "  yield {\n",
              "    response: {\n",
              "      action: 'complete',\n",
              "    }\n",
              "  };\n",
              "}\n",
              "\n",
              "scope.google = scope.google || {};\n",
              "scope.google.colab = scope.google.colab || {};\n",
              "scope.google.colab._files = {\n",
              "  _uploadFiles,\n",
              "  _uploadFilesContinue,\n",
              "};\n",
              "})(self);\n",
              "</script> "
            ]
          },
          "metadata": {}
        }
      ],
      "source": [
        "# Uploading the data\n",
        "from google.colab import files\n",
        "files.upload()"
      ]
    },
    {
      "cell_type": "code",
      "execution_count": null,
      "metadata": {
        "id": "R7FBmtLo0FOh"
      },
      "outputs": [],
      "source": [
        "# Load the dataset\n",
        "df = pd.read_csv('TRAQDataScienceTest. (1).csv')"
      ]
    },
    {
      "cell_type": "code",
      "execution_count": null,
      "metadata": {
        "id": "LBWcuRls0nwK"
      },
      "outputs": [],
      "source": [
        "# Display the first few rows of the dataset\n",
        "df.head()"
      ]
    },
    {
      "cell_type": "code",
      "execution_count": null,
      "metadata": {
        "id": "YYaVX5z2e2Ub"
      },
      "outputs": [],
      "source": [
        "df.drop(['Previous_Payment_Amount', 'Previous_Total_Due', 'Director_Status', 'Contact_Score', 'Credit_Risk'],axis=1,inplace=True)"
      ]
    },
    {
      "cell_type": "code",
      "execution_count": null,
      "metadata": {
        "id": "vZonDEOt02LX"
      },
      "outputs": [],
      "source": [
        "df.shape"
      ]
    },
    {
      "cell_type": "code",
      "execution_count": null,
      "metadata": {
        "id": "47XDhVsP04Kb"
      },
      "outputs": [],
      "source": [
        "df.columns"
      ]
    },
    {
      "cell_type": "code",
      "execution_count": null,
      "metadata": {
        "id": "zygILhQpJl0k"
      },
      "outputs": [],
      "source": [
        "df.info()"
      ]
    },
    {
      "cell_type": "code",
      "execution_count": null,
      "metadata": {
        "id": "-a2ETC4907iE"
      },
      "outputs": [],
      "source": [
        "#1. Plotting Monthly Account Balances\n",
        "# Set the style for the plots\n",
        "sns.set(style=\"white\")\n",
        "\n",
        "# Aggregate the Opening_Balance by Month\n",
        "monthly_balance = df.groupby('Month')['Opening_Balance'].mean().reset_index()\n",
        "\n",
        "# Plot the trend of Opening_Balance over the Month\n",
        "plt.figure(figsize=(10, 6))\n",
        "plt.plot(monthly_balance['Month'], monthly_balance['Opening_Balance'], marker='o', linestyle='-')\n",
        "plt.title('Trend of Opening Balance Over Months')\n",
        "plt.xlabel('Month')\n",
        "plt.ylabel('Average Opening Balance')\n",
        "plt.legend(['Opening Balance'])\n",
        "plt.grid(True)\n",
        "plt.show()"
      ]
    },
    {
      "cell_type": "code",
      "execution_count": null,
      "metadata": {
        "id": "kE1jT1Mq1arb"
      },
      "outputs": [],
      "source": [
        "#2. Visualizing Arrears\n",
        "# Aggregate the Opening_Arrears by Month\n",
        "monthly_arrears = df.groupby('Month')['Opening_Arrears'].sum().reset_index()\n",
        "\n",
        "# Plot the total Opening_Arrears for each Month\n",
        "plt.figure(figsize=(10, 6))\n",
        "sns.barplot(x='Month', y='Opening_Arrears', data=monthly_arrears, palette='viridis')\n",
        "plt.title('Total Opening Arrears for Each Month')\n",
        "plt.xlabel('Month')\n",
        "plt.ylabel('Total Opening Arrears')\n",
        "plt.show()"
      ]
    },
    {
      "cell_type": "code",
      "execution_count": null,
      "metadata": {
        "id": "BXumt6D61_T1"
      },
      "outputs": [],
      "source": [
        "#3. Distribution of Account Age\n",
        "# Set the style for the plots\n",
        "sns.set(style=\"dark\")\n",
        "\n",
        "# Plot the distribution of Opening_acc_age\n",
        "plt.figure(figsize=(10, 6))\n",
        "sns.histplot(df['Opening_acc_age'], bins=20, kde=True, color='blue')\n",
        "plt.title('Distribution of Opening Account Age')\n",
        "plt.xlabel('Opening Account Age')\n",
        "plt.ylabel('Frequency')\n",
        "plt.show()"
      ]
    },
    {
      "cell_type": "code",
      "execution_count": null,
      "metadata": {
        "id": "gzTLYtPcYuFJ"
      },
      "outputs": [],
      "source": [
        "# Section B: Data Science"
      ]
    },
    {
      "cell_type": "code",
      "execution_count": null,
      "metadata": {
        "id": "FCWCjpQZ78sc"
      },
      "outputs": [],
      "source": [
        "# 1. Summary Statistics\n",
        "summary_stats = df[['Opening_Balance', 'Opening_Arrears', 'Payment_Amount']].describe().T\n",
        "summary_stats['median'] = df[['Opening_Balance', 'Opening_Arrears', 'Payment_Amount']].median()\n",
        "summary_stats = summary_stats[['mean', 'median', 'std']]\n",
        "print(summary_stats)"
      ]
    },
    {
      "cell_type": "code",
      "execution_count": null,
      "metadata": {
        "id": "sJyKwQ0V_RFk"
      },
      "outputs": [],
      "source": [
        "#2. Correlation Matrix\n",
        "plt.figure(figsize=(18, 12))\n",
        "corr_matrix = df.corr()\n",
        "sns.heatmap(corr_matrix, annot=True, cmap='coolwarm', linewidths=0.5, annot_kws={\"size\": 10}, cbar_kws={\"shrink\": 0.8})\n",
        "plt.title('Correlation Heatmap', fontsize=16)\n",
        "plt.xticks(fontsize=12)\n",
        "plt.yticks(fontsize=12)\n",
        "plt.show()"
      ]
    },
    {
      "cell_type": "code",
      "execution_count": null,
      "metadata": {
        "id": "be9WtLB8JeW-"
      },
      "outputs": [],
      "source": [
        "#3. Feature Importance\n",
        "\n",
        "from sklearn.impute import SimpleImputer\n",
        "from sklearn.compose import ColumnTransformer\n",
        "from sklearn.pipeline import Pipeline\n",
        "from sklearn.preprocessing import OneHotEncoder\n",
        "\n",
        "\n",
        "# Separate features and target variable\n",
        "X = df.drop(columns=['Current_Payment'])\n",
        "y = df['Current_Payment']\n",
        "\n",
        "# Define categorical and numerical features\n",
        "numeric_features = X.select_dtypes(include=['int', 'float']).columns\n",
        "categorical_features = X.select_dtypes(include=['object']).columns\n",
        "\n",
        "# Pipeline for preprocessing\n",
        "numeric_transformer = Pipeline(steps=[\n",
        "    ('imputer', SimpleImputer(strategy='mean'))\n",
        "])\n",
        "\n",
        "categorical_transformer = Pipeline(steps=[\n",
        "    ('imputer', SimpleImputer(strategy='most_frequent')),\n",
        "    ('encoder', OneHotEncoder(drop='first'))\n",
        "])\n",
        "\n",
        "preprocessor = ColumnTransformer(\n",
        "    transformers=[\n",
        "        ('num', numeric_transformer, numeric_features),\n",
        "        ('cat', categorical_transformer, categorical_features)\n",
        "    ])\n",
        "\n",
        "# Append classifier to preprocessing pipeline\n",
        "rf_model = Pipeline(steps=[('preprocessor', preprocessor),\n",
        "                            ('classifier', RandomForestClassifier(random_state=42))])\n",
        "\n",
        "# Fit the model\n",
        "rf_model.fit(X, y)\n",
        "\n",
        "# Get feature importances\n",
        "feature_importances = rf_model.named_steps['classifier'].feature_importances_\n",
        "\n",
        "# Create a DataFrame to display feature importances\n",
        "feature_importances_df = pd.DataFrame({\n",
        "    'Feature': X.columns,\n",
        "    'Importance': feature_importances\n",
        "})\n",
        "\n",
        "# Sort by importance descending\n",
        "feature_importances_df = feature_importances_df.sort_values(by='Importance', ascending=False)\n",
        "\n",
        "# Display the top 5 most important features\n",
        "top_features = feature_importances_df.head(5)\n",
        "print(\"Top 5 most important features:\")\n",
        "print(top_features)\n"
      ]
    },
    {
      "cell_type": "code",
      "execution_count": null,
      "metadata": {
        "id": "Gn6ydx4FQudR"
      },
      "outputs": [],
      "source": [
        "# calculate the percentage of null values in each column\n",
        "import numpy as np\n",
        "null_percentage = df.isnull().mean()*100\n",
        "print(null_percentage)"
      ]
    },
    {
      "cell_type": "code",
      "execution_count": null,
      "metadata": {
        "id": "AHk-RBXdbFx1"
      },
      "outputs": [],
      "source": [
        "# Filter columns with more than 50% null values\n",
        "columns_to_keep = null_percentage[null_percentage <= 50].index\n",
        "df = df[columns_to_keep]"
      ]
    },
    {
      "cell_type": "code",
      "execution_count": null,
      "metadata": {
        "id": "rbjnf7mw-Qwq"
      },
      "outputs": [],
      "source": [
        "# 4. Missing Values\n",
        "missing_values = df.isnull().mean() * 100\n",
        "missing_values = missing_values[missing_values > 0].sort_values(ascending=False)\n",
        "print(missing_values)"
      ]
    },
    {
      "cell_type": "code",
      "execution_count": null,
      "metadata": {
        "id": "DAKBimPFbb9V"
      },
      "outputs": [],
      "source": [
        "# Imputation strategy:\n",
        "for column in df.columns:\n",
        "    if df[column].dtype == 'float64' or df[column].dtype == 'int64':\n",
        "        # For numerical columns, use mean\n",
        "        df[column].fillna(df[column].mean(), inplace=True)"
      ]
    },
    {
      "cell_type": "code",
      "execution_count": null,
      "metadata": {
        "id": "MIOe-SznbhdD"
      },
      "outputs": [],
      "source": [
        "# Check for missing values after imputation\n",
        "print(\"\\nMissing values after imputation:\\n\", df.isnull().sum())\n",
        "print(\"\\nDataFrame after imputation:\\n\", df)"
      ]
    },
    {
      "cell_type": "code",
      "execution_count": null,
      "metadata": {
        "id": "Oa5S1u28I9eT"
      },
      "outputs": [],
      "source": [
        "# 5. Distribution Analysis for Delinquency Stage\n",
        "plt.figure(figsize=(10, 6))\n",
        "sns.countplot(data=df, x='Delinquency Stage')\n",
        "plt.title('Distribution of Delinquency Stage')\n",
        "plt.xlabel('Delinquency Stage')\n",
        "plt.ylabel('Count')\n",
        "plt.show()"
      ]
    },
    {
      "cell_type": "code",
      "execution_count": null,
      "metadata": {
        "id": "ZhSN1f0xYyv9"
      },
      "outputs": [],
      "source": [
        "# Section C: Data Cleaning and Machine Learning"
      ]
    },
    {
      "cell_type": "code",
      "execution_count": null,
      "metadata": {
        "id": "wvA1R9pGJ1xI"
      },
      "outputs": [],
      "source": [
        "# 1. Handle Missing Values\n",
        "#Checking and removing extreme values\n",
        "df1 = df.copy()\n",
        "for i in [i for i in df1.columns]:\n",
        " if df1[i].nunique()>=12:\n",
        "  Q1 = df1[i].quantile(0.25)\n",
        "  Q3 = df1[i].quantile(0.75)\n",
        "  IQR = Q3 - Q1\n",
        "  df1 = df1[df1[i] <= (Q3+(1.5*IQR))]\n",
        "  df1 = df1[df1[i] >= (Q1-(1.5*IQR))]\n",
        "df1 = df1.reset_index(drop=True)\n",
        "display(df1.head())\n",
        "print('\\n\\033[1mInference:\\033[0m Before removal of outliers, The dataset had {} samples.'.format(df.shape[0]))\n",
        "print('\\033[1mInference:\\033[0m After removal of outliers, The dataset now has {} samples.'.format(df1.shape[0]))"
      ]
    },
    {
      "cell_type": "code",
      "execution_count": null,
      "metadata": {
        "id": "7xnpIHDgcBaz"
      },
      "outputs": [],
      "source": [
        "# Fill missing values with mean\n",
        "df = df.fillna(df.mean())"
      ]
    },
    {
      "cell_type": "code",
      "execution_count": null,
      "metadata": {
        "id": "my2NJqVncKyP"
      },
      "outputs": [],
      "source": [
        "# Identify constant features\n",
        "constant_features = [col for col in df1.columns if df1[col].nunique() == 1]\n",
        "print(\"Constant features:\", constant_features)\n",
        "\n",
        "# Remove constant features\n",
        "df_filtered = df1.drop(columns=constant_features)\n",
        "print(\"\\nDataFrame after removing constant features:\\n\", df_filtered)"
      ]
    },
    {
      "cell_type": "code",
      "execution_count": null,
      "metadata": {
        "id": "PJQSkTEfcjv-"
      },
      "outputs": [],
      "source": [
        "df_filtered = df1.drop(columns=constant_features)"
      ]
    },
    {
      "cell_type": "code",
      "execution_count": null,
      "metadata": {
        "id": "59k3BhHuKMnT"
      },
      "outputs": [],
      "source": [
        "# Encode Categorical Variables\n",
        "df = pd.get_dummies(df, drop_first=True)"
      ]
    },
    {
      "cell_type": "code",
      "execution_count": null,
      "metadata": {
        "id": "zGea-pdoKcD9"
      },
      "outputs": [],
      "source": [
        "# 2. Feature Engineering\n",
        "df['Payment_Difference'] = df['Current_Payment'] - df['Previous_Payment']\n",
        "# Justification: This feature might indicate the change in payment behavior"
      ]
    },
    {
      "cell_type": "code",
      "execution_count": null,
      "metadata": {
        "id": "gLbo9jfqKk1J"
      },
      "outputs": [],
      "source": [
        "# 4. Identify the Target Variable\n",
        "target = 'Current_Payment'\n",
        "print(f'Target variable selected for predicting customer payment: {target}')"
      ]
    },
    {
      "cell_type": "code",
      "execution_count": null,
      "metadata": {
        "id": "BfofaNtgKrqK"
      },
      "outputs": [],
      "source": [
        "# 5. Train-Test Split\n",
        "X = df.drop(columns=[target])\n",
        "y = df[target]\n",
        "X_train, X_test, y_train, y_test = train_test_split(X, y, test_size=0.2, random_state=42)"
      ]
    },
    {
      "cell_type": "code",
      "execution_count": null,
      "metadata": {
        "id": "DWnzXXGgKy6J"
      },
      "outputs": [],
      "source": [
        "from sklearn.model_selection import train_test_split\n",
        "from sklearn.preprocessing import LabelEncoder\n",
        "from xgboost import XGBClassifier\n",
        "\n",
        "# Example data (replace with your actual data loading and preprocessing)\n",
        "# Assuming X_train, X_test, y_train, y_test are already defined\n",
        "\n",
        "# Check unique classes in y_train and y_test\n",
        "print(\"Unique classes in y_train:\", sorted(pd.unique(y_train)))\n",
        "print(\"Unique classes in y_test:\", sorted(pd.unique(y_test)))\n",
        "\n",
        "# Use LabelEncoder to transform classes to sequential integers starting from 0\n",
        "label_encoder = LabelEncoder()\n",
        "y_train_encoded = label_encoder.fit_transform(y_train)\n",
        "y_test_encoded = label_encoder.transform(y_test)\n",
        "\n",
        "# Initialize and fit XGBoost model\n",
        "xgb_model = XGBClassifier(random_state=42)\n",
        "xgb_model.fit(X_train, y_train_encoded)\n",
        "\n",
        "# Evaluate model performance\n",
        "xgb_train_accuracy = xgb_model.score(X_train, y_train_encoded)\n",
        "xgb_test_accuracy = xgb_model.score(X_test, y_test_encoded)\n",
        "\n",
        "print(f\"XGBoost Train Accuracy: {xgb_train_accuracy:.4f}\")\n",
        "print(f\"XGBoost Test Accuracy: {xgb_test_accuracy:.4f}\")"
      ]
    },
    {
      "cell_type": "code",
      "execution_count": null,
      "metadata": {
        "id": "vlgaCZV2LKM-"
      },
      "outputs": [],
      "source": [
        "# 7. Model Evaluation\n",
        "best_model = xgb_model if xgb_test_accuracy > xgb_test_accuracy else rf_model\n",
        "\n",
        "y_pred = best_model.predict(X_test)\n",
        "print(classification_report(y_test, y_pred))\n",
        "\n",
        "# Confusion Matrix\n",
        "conf_matrix = confusion_matrix(y_test, y_pred)\n",
        "plt.figure(figsize=(8, 6))\n",
        "sns.heatmap(conf_matrix, annot=True, fmt='d', cmap='Blues')\n",
        "plt.title('Confusion Matrix')\n",
        "plt.xlabel('Predicted')\n",
        "plt.ylabel('Actual')\n",
        "plt.show()"
      ]
    },
    {
      "cell_type": "code",
      "execution_count": null,
      "metadata": {
        "id": "_KY0kZOXlJUP"
      },
      "outputs": [],
      "source": []
    }
  ],
  "metadata": {
    "colab": {
      "provenance": [],
      "authorship_tag": "ABX9TyM39W/Iz5qcVMLvdAponyfg",
      "include_colab_link": true
    },
    "kernelspec": {
      "display_name": "Python 3",
      "name": "python3"
    },
    "language_info": {
      "name": "python"
    }
  },
  "nbformat": 4,
  "nbformat_minor": 0
}